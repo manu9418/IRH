{
  "nbformat": 4,
  "nbformat_minor": 0,
  "metadata": {
    "colab": {
      "name": "MAIRH_TF_Kostiakov.ipynb",
      "provenance": [],
      "collapsed_sections": [],
      "authorship_tag": "ABX9TyNLOc5yNhyDvV2bdYIj7i6k",
      "include_colab_link": true
    },
    "kernelspec": {
      "name": "python3",
      "display_name": "Python 3"
    },
    "language_info": {
      "name": "python"
    }
  },
  "cells": [
    {
      "cell_type": "markdown",
      "metadata": {
        "id": "view-in-github",
        "colab_type": "text"
      },
      "source": [
        "<a href=\"https://colab.research.google.com/github/manu9418/IRH/blob/main/MAIRH_TF_Kostiakov.ipynb\" target=\"_parent\"><img src=\"https://colab.research.google.com/assets/colab-badge.svg\" alt=\"Open In Colab\"/></a>"
      ]
    },
    {
      "cell_type": "markdown",
      "metadata": {
        "id": "uGUCmPeEj7OG"
      },
      "source": [
        "# Método Kostiakov"
      ]
    },
    {
      "cell_type": "code",
      "metadata": {
        "id": "dybj9J2t3TpV"
      },
      "source": [
        "## Importando librerias\n",
        "import numpy as np\n",
        "import matplotlib.pyplot as plt\n",
        "import pandas as pd\n",
        "import seaborn as sns\n",
        "from scipy import stats\n",
        "plt.rcParams.update({'font.size': 24})"
      ],
      "execution_count": null,
      "outputs": []
    },
    {
      "cell_type": "code",
      "metadata": {
        "id": "pz9jy4702_2n"
      },
      "source": [
        "## Ingreso de datos recolectados\n",
        "t_acumulado_min = np.array([0,3,7,12,27,45,77,118,177])\n",
        "lamina_inf_acum_cm = np.array([0,0.53,1.08,1.65,2.73,\\\n",
        "                              3.65,4.94,5.67,6.87])"
      ],
      "execution_count": null,
      "outputs": []
    },
    {
      "cell_type": "code",
      "metadata": {
        "colab": {
          "base_uri": "https://localhost:8080/",
          "height": 363
        },
        "id": "-9nbq_tE6kIx",
        "outputId": "68aa5b1b-919d-4da8-9546-ae01d3cd6524"
      },
      "source": [
        "## Dataframe con datos ingresados\n",
        "df = pd.DataFrame(data= lamina_inf_acum_cm, \n",
        "                  index= t_acumulado_min, \n",
        "                  columns=['LIA (cm)']\n",
        "                  )\n",
        "df.index.name = 't (min)' \n",
        "## en su defecto usar df.index.set_names('t_min')\n",
        "\n",
        "## Calculando el log de t\n",
        "log_t = [np.log10(i) for i in list(t_acumulado_min) if i>0]\n",
        "if len(t_acumulado_min)==len(log_t):\n",
        "  print(\"misma longitud entre t y logt\")\n",
        "else:\n",
        "  nlen = len(t_acumulado_min)-len(log_t)\n",
        "  for i in range(nlen):\n",
        "    log_t.insert(0,np.nan)\n",
        "df['log t'] = np.asarray(log_t)\n",
        "\n",
        "## Calculando el log de lamina de infiltracion acumulada en cm\n",
        "log_lam = [np.log10(i) for i in list(lamina_inf_acum_cm) if i>0]\n",
        "if len(lamina_inf_acum_cm)==len(log_lam):\n",
        "  print(\"misma longitud entre lamina y log lamina\")\n",
        "else:\n",
        "  nlen2 = len(lamina_inf_acum_cm)-len(log_lam)\n",
        "  for i in range(nlen2):\n",
        "    log_lam.insert(0,np.nan)\n",
        "df['log LIA'] = np.asarray(log_lam)\n",
        "\n",
        "## Dataframe con todos los valores\n",
        "df"
      ],
      "execution_count": null,
      "outputs": [
        {
          "output_type": "execute_result",
          "data": {
            "text/html": [
              "<div>\n",
              "<style scoped>\n",
              "    .dataframe tbody tr th:only-of-type {\n",
              "        vertical-align: middle;\n",
              "    }\n",
              "\n",
              "    .dataframe tbody tr th {\n",
              "        vertical-align: top;\n",
              "    }\n",
              "\n",
              "    .dataframe thead th {\n",
              "        text-align: right;\n",
              "    }\n",
              "</style>\n",
              "<table border=\"1\" class=\"dataframe\">\n",
              "  <thead>\n",
              "    <tr style=\"text-align: right;\">\n",
              "      <th></th>\n",
              "      <th>LIA (cm)</th>\n",
              "      <th>log t</th>\n",
              "      <th>log LIA</th>\n",
              "    </tr>\n",
              "    <tr>\n",
              "      <th>t (min)</th>\n",
              "      <th></th>\n",
              "      <th></th>\n",
              "      <th></th>\n",
              "    </tr>\n",
              "  </thead>\n",
              "  <tbody>\n",
              "    <tr>\n",
              "      <th>0</th>\n",
              "      <td>0.00</td>\n",
              "      <td>NaN</td>\n",
              "      <td>NaN</td>\n",
              "    </tr>\n",
              "    <tr>\n",
              "      <th>3</th>\n",
              "      <td>0.53</td>\n",
              "      <td>0.477121</td>\n",
              "      <td>-0.275724</td>\n",
              "    </tr>\n",
              "    <tr>\n",
              "      <th>7</th>\n",
              "      <td>1.08</td>\n",
              "      <td>0.845098</td>\n",
              "      <td>0.033424</td>\n",
              "    </tr>\n",
              "    <tr>\n",
              "      <th>12</th>\n",
              "      <td>1.65</td>\n",
              "      <td>1.079181</td>\n",
              "      <td>0.217484</td>\n",
              "    </tr>\n",
              "    <tr>\n",
              "      <th>27</th>\n",
              "      <td>2.73</td>\n",
              "      <td>1.431364</td>\n",
              "      <td>0.436163</td>\n",
              "    </tr>\n",
              "    <tr>\n",
              "      <th>45</th>\n",
              "      <td>3.65</td>\n",
              "      <td>1.653213</td>\n",
              "      <td>0.562293</td>\n",
              "    </tr>\n",
              "    <tr>\n",
              "      <th>77</th>\n",
              "      <td>4.94</td>\n",
              "      <td>1.886491</td>\n",
              "      <td>0.693727</td>\n",
              "    </tr>\n",
              "    <tr>\n",
              "      <th>118</th>\n",
              "      <td>5.67</td>\n",
              "      <td>2.071882</td>\n",
              "      <td>0.753583</td>\n",
              "    </tr>\n",
              "    <tr>\n",
              "      <th>177</th>\n",
              "      <td>6.87</td>\n",
              "      <td>2.247973</td>\n",
              "      <td>0.836957</td>\n",
              "    </tr>\n",
              "  </tbody>\n",
              "</table>\n",
              "</div>"
            ],
            "text/plain": [
              "         LIA (cm)     log t   log LIA\n",
              "t (min)                              \n",
              "0            0.00       NaN       NaN\n",
              "3            0.53  0.477121 -0.275724\n",
              "7            1.08  0.845098  0.033424\n",
              "12           1.65  1.079181  0.217484\n",
              "27           2.73  1.431364  0.436163\n",
              "45           3.65  1.653213  0.562293\n",
              "77           4.94  1.886491  0.693727\n",
              "118          5.67  2.071882  0.753583\n",
              "177          6.87  2.247973  0.836957"
            ]
          },
          "metadata": {},
          "execution_count": 3
        }
      ]
    },
    {
      "cell_type": "code",
      "metadata": {
        "colab": {
          "base_uri": "https://localhost:8080/",
          "height": 300
        },
        "id": "vDetptuDpN57",
        "outputId": "d3d3cef6-ac0b-4a4b-e781-97f74bee026a"
      },
      "source": [
        "df_new = df[df['log LIA']>0]\n",
        "df_new #.plot(x='log t',y='log LIA')"
      ],
      "execution_count": null,
      "outputs": [
        {
          "output_type": "execute_result",
          "data": {
            "text/html": [
              "<div>\n",
              "<style scoped>\n",
              "    .dataframe tbody tr th:only-of-type {\n",
              "        vertical-align: middle;\n",
              "    }\n",
              "\n",
              "    .dataframe tbody tr th {\n",
              "        vertical-align: top;\n",
              "    }\n",
              "\n",
              "    .dataframe thead th {\n",
              "        text-align: right;\n",
              "    }\n",
              "</style>\n",
              "<table border=\"1\" class=\"dataframe\">\n",
              "  <thead>\n",
              "    <tr style=\"text-align: right;\">\n",
              "      <th></th>\n",
              "      <th>LIA (cm)</th>\n",
              "      <th>log t</th>\n",
              "      <th>log LIA</th>\n",
              "    </tr>\n",
              "    <tr>\n",
              "      <th>t (min)</th>\n",
              "      <th></th>\n",
              "      <th></th>\n",
              "      <th></th>\n",
              "    </tr>\n",
              "  </thead>\n",
              "  <tbody>\n",
              "    <tr>\n",
              "      <th>7</th>\n",
              "      <td>1.08</td>\n",
              "      <td>0.845098</td>\n",
              "      <td>0.033424</td>\n",
              "    </tr>\n",
              "    <tr>\n",
              "      <th>12</th>\n",
              "      <td>1.65</td>\n",
              "      <td>1.079181</td>\n",
              "      <td>0.217484</td>\n",
              "    </tr>\n",
              "    <tr>\n",
              "      <th>27</th>\n",
              "      <td>2.73</td>\n",
              "      <td>1.431364</td>\n",
              "      <td>0.436163</td>\n",
              "    </tr>\n",
              "    <tr>\n",
              "      <th>45</th>\n",
              "      <td>3.65</td>\n",
              "      <td>1.653213</td>\n",
              "      <td>0.562293</td>\n",
              "    </tr>\n",
              "    <tr>\n",
              "      <th>77</th>\n",
              "      <td>4.94</td>\n",
              "      <td>1.886491</td>\n",
              "      <td>0.693727</td>\n",
              "    </tr>\n",
              "    <tr>\n",
              "      <th>118</th>\n",
              "      <td>5.67</td>\n",
              "      <td>2.071882</td>\n",
              "      <td>0.753583</td>\n",
              "    </tr>\n",
              "    <tr>\n",
              "      <th>177</th>\n",
              "      <td>6.87</td>\n",
              "      <td>2.247973</td>\n",
              "      <td>0.836957</td>\n",
              "    </tr>\n",
              "  </tbody>\n",
              "</table>\n",
              "</div>"
            ],
            "text/plain": [
              "         LIA (cm)     log t   log LIA\n",
              "t (min)                              \n",
              "7            1.08  0.845098  0.033424\n",
              "12           1.65  1.079181  0.217484\n",
              "27           2.73  1.431364  0.436163\n",
              "45           3.65  1.653213  0.562293\n",
              "77           4.94  1.886491  0.693727\n",
              "118          5.67  2.071882  0.753583\n",
              "177          6.87  2.247973  0.836957"
            ]
          },
          "metadata": {},
          "execution_count": 4
        }
      ]
    },
    {
      "cell_type": "code",
      "metadata": {
        "colab": {
          "base_uri": "https://localhost:8080/",
          "height": 496
        },
        "id": "msWgf5Bzp9Pf",
        "outputId": "349cc2de-d941-44d3-c901-22d9053698b9"
      },
      "source": [
        "## Obtener coeficientes del ajuste lineal\n",
        "slope, intercept, r_value, p_value, std_err = stats.linregress(\n",
        "                                              x= df_new['log t'],\n",
        "                                              y= df_new['log LIA']\n",
        "                                              )\n",
        "## set tamanho de la figura\n",
        "fig1 = plt.figure(figsize = (12,8))\n",
        "ax1 = fig1.add_subplot(111)\n",
        "\n",
        "## plot\n",
        "sns.regplot(x=\"log t\", y=\"log LIA\", data=df_new, color='b', \n",
        " line_kws={\n",
        "      'label':\"y={0:.2f}x+{1:.2f}\".format(slope,intercept)},\n",
        " ax=ax1)\n",
        "ax1.grid()\n",
        "ax1.legend() #(loc = 'upper right', fontsize = 14)\n",
        "plt.show()"
      ],
      "execution_count": null,
      "outputs": [
        {
          "output_type": "display_data",
          "data": {
            "image/png": "[encoded data removed]",
            "text/plain": [
              "<Figure size 864x576 with 1 Axes>"
            ]
          },
          "metadata": {
            "needs_background": "light"
          }
        }
      ]
    },
    {
      "cell_type": "code",
      "source": [
        "print('y = ',slope,'* x +',intercept)"
      ],
      "metadata": {
        "colab": {
          "base_uri": "https://localhost:8080/"
        },
        "id": "P8kDBgBetEMm",
        "outputId": "08747aec-8794-4700-ac62-aad6fa458754"
      },
      "execution_count": null,
      "outputs": [
        {
          "output_type": "stream",
          "name": "stdout",
          "text": [
            "y =  0.5678621447602188 * x + -0.40500835104519617\n"
          ]
        }
      ]
    },
    {
      "cell_type": "code",
      "metadata": {
        "colab": {
          "base_uri": "https://localhost:8080/"
        },
        "id": "rbODjXKcqce7",
        "outputId": "3e1c9fe2-3deb-4030-b877-4e1e208535a0"
      },
      "source": [
        "logA = intercept\n",
        "A = pow(10,intercept)\n",
        "B = slope\n",
        "\n",
        "print('F =', np.round(A,4),'* t ^(',np.round(B,4),')') "
      ],
      "execution_count": null,
      "outputs": [
        {
          "output_type": "stream",
          "name": "stdout",
          "text": [
            "F = 0.3935 * t ^( 0.5679 )\n"
          ]
        }
      ]
    }
  ]
}